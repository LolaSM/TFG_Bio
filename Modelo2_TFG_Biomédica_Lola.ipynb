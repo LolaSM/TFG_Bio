{
  "nbformat": 4,
  "nbformat_minor": 0,
  "metadata": {
    "colab": {
      "provenance": [],
      "authorship_tag": "ABX9TyNWg58k4eRG6zXimro/L9eh",
      "include_colab_link": true
    },
    "kernelspec": {
      "name": "python3",
      "display_name": "Python 3"
    },
    "language_info": {
      "name": "python"
    }
  },
  "cells": [
    {
      "cell_type": "markdown",
      "metadata": {
        "id": "view-in-github",
        "colab_type": "text"
      },
      "source": [
        "<a href=\"https://colab.research.google.com/github/LolaSM/TFG_Bio/blob/main/Modelo2_TFG_Biom%C3%A9dica_Lola.ipynb\" target=\"_parent\"><img src=\"https://colab.research.google.com/assets/colab-badge.svg\" alt=\"Open In Colab\"/></a>"
      ]
    },
    {
      "cell_type": "markdown",
      "source": [
        "#Load and Visualization of Data"
      ],
      "metadata": {
        "id": "BOjU30cuEafL"
      }
    },
    {
      "cell_type": "code",
      "source": [
        "import pandas as pd\n",
        "import numpy as np\n",
        "import matplotlib.pyplot as plt"
      ],
      "metadata": {
        "id": "hFRf92j6EnTs"
      },
      "execution_count": null,
      "outputs": []
    },
    {
      "cell_type": "markdown",
      "source": [
        "Load the patients data that includes a vector per patient with statistics information: mean, desviation, kurtosis, skewness"
      ],
      "metadata": {
        "id": "w4NMI5i4EsNR"
      }
    },
    {
      "cell_type": "code",
      "source": [
        "url = 'https://raw.githubusercontent.com/LolaSM/TFG_Bio/refs/heads/main/tablaVectores_AB_speed_acceleration.csv'\n",
        "patients_vector = pd.read_csv(url)"
      ],
      "metadata": {
        "id": "B7RF266kEtZq"
      },
      "execution_count": null,
      "outputs": []
    }
  ]
}